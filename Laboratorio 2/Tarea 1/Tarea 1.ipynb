{
 "cells": [
  {
   "cell_type": "markdown",
   "metadata": {},
   "source": [
    "## 1. Razón de compresión (10 puntos)\n",
    "\n",
    "a) Crea una carpeta con 5 o más fotos de extensión .jpg en alguna ubicación en tu cuenta de drive o en tu computador (de acuerdo a donde estés trabajando).\n",
    "\n",
    "b) Lee por completo y detalladamente la función *razonDeCompresion* (ver siguiente celda)(si lees detalladamente encontraras cosas que te sirven para resolver las preguntas de este taller e incluso próximos talleres).\n",
    "\n",
    "c) En la función *razonDeCompresion* reemplaza `None` con la línea de código que permite agregar la razón de compresion $\\frac{\\text{size_unpack}}{\\text{ size_pack}}$ al final de la lista \"ratios\". no cambies ninguna otra línea, yo uso `### START CODE HERE ###` y `### END CODE HERE ###` para identificar y calificar el código que has escrito, si lo quitas no se califica y perjudica tu nota."
   ]
  },
  {
   "cell_type": "code",
   "execution_count": 11,
   "metadata": {},
   "outputs": [],
   "source": [
    "import os\n",
    "import glob\n",
    "\n",
    "def razonDeCompresion(ruta, extension_unpaking, extension_paking):\n",
    "    \n",
    "    \"\"\"\"\n",
    "    Calcula la razón de compresión unpacking/packing para todos los archivos\n",
    "    ubicados en la ruta \"ruta\" con extensión \"ext_unpacking\"\n",
    "  \n",
    "    Arguments:\n",
    "    ruta -- string con la ruta hacia los archivos de interés. \n",
    "    Ejemplo de input: 'archivos/varios/'\n",
    "    ext_unpacking -- string con la extensión de los archivos de interés.\n",
    "    Ejemplo de input: '.jpg'\n",
    "    ext_packing -- string con la extensión de los archivos comprimidos que\n",
    "    se generarán al interior de \"ruta\".\n",
    "    Ejemplo de input: '.tar.bz2'\n",
    "\n",
    "    Returns:\n",
    "    sizes_unpacking -- list con los tamaños en Bytes de los archivos ubicados\n",
    "    en la ruta \"ruta\" que tienen extensión \"ext_unpaking\"\n",
    "    ratios -- list con las razones de compresión alcanzadas en cada archivo\n",
    "    \"\"\"\n",
    "\n",
    "# inicializar listas donde se almacenarán los ratios y sizes_unpacking\n",
    "    ratios = []\n",
    "    sizes_unpacking = []\n",
    "\n",
    "# construir la lista de todos los archivos en la ubicación \"ruta\" que\n",
    "# tengan extensión \"extension_unpaking\" (será .jpg en este ejemplo)\n",
    "    files = glob.glob(ruta + '*' + extension_unpaking)\n",
    "    \n",
    "#iterar a través de los elementos de \"files\"\n",
    "    for inputfilename in files:\n",
    "    \n",
    "# construir el nombre del archivo comprimido\n",
    "        outputfilename = os.path.splitext(inputfilename)[0] + extension_paking\n",
    "    \n",
    "# construir el comando de terminal que comprime los archivos\n",
    "        comando = 'tar jcvf \\''+ outputfilename + '\\' \\'' + inputfilename +'\\''\n",
    "\n",
    "# ejecutar desde python el comando de compresión\n",
    "        os.system(comando)\n",
    "\n",
    "# obtener el tamaño del archivo sin comprimir\n",
    "        size_unpack = os.path.getsize(inputfilename)\n",
    "\n",
    "# obtener el tamaño del archivo comprimido\n",
    "        size_pack = os.path.getsize(outputfilename)\n",
    "\n",
    "# agregar el elemento \"size_pack\" al final de la lista \"sizes_unpacking\"\n",
    "        sizes_unpacking.append(size_pack)\n",
    "    \n",
    "# agregar la razón de compresion al final de la lista \"ratios\"\n",
    "### START CODE HERE ### (approx length 1 line)\n",
    "    \n",
    "    None\n",
    "    \n",
    "### END CODE HERE ###\n",
    "    \n",
    "    return sizes_unpacking, ratios"
   ]
  },
  {
   "cell_type": "markdown",
   "metadata": {},
   "source": [
    "d)  En la función *dibujarRatioVsSizeUnpacking* reemplaza `None` con la línea de código que permite dibujar ratios (eje y) vs SizeUnpacking (eje x) con puntos rojos sin línea que los una (opcion `'ro'` dentro de `plt.plot`)"
   ]
  },
  {
   "cell_type": "code",
   "execution_count": null,
   "metadata": {},
   "outputs": [],
   "source": [
    "import matplotlib.pyplot as plt\n",
    "# descomentar la siguiente línea si desea activar el fondo oscuro en las gráficas\n",
    "#plt.style.use('dark_background') \n",
    "\n",
    "def dibujarRatioVsSizeUnpacking(sizes_unpacking, ratios):\n",
    "\n",
    "# dibujar ratios vs SizeUnpacking en rojo y con puntos ('ro')\n",
    "### START CODE HERE ### (approx length 1 line)\n",
    "\n",
    "    None\n",
    "\n",
    "### END CODE HERE ###\n",
    "\n",
    "# agregar nombres a los ejes\n",
    "    plt.xlabel('Tamaños de archivos sin comprimir', fontsize=11)\n",
    "    plt.ylabel('Razon de compresión', fontsize=11)\n",
    "\n",
    "# mostrar gráfica\n",
    "    plt.show()"
   ]
  },
  {
   "cell_type": "markdown",
   "metadata": {},
   "source": [
    "e) En ruta coloca la ruta hacia la carpeta que contiene los archivos que preparaste en la parte a). Nota que la ruta debe terminar con /"
   ]
  },
  {
   "cell_type": "code",
   "execution_count": 10,
   "metadata": {},
   "outputs": [
    {
     "data": {
      "image/png": "[encoded data removed]",
      "text/plain": [
       "<Figure size 432x288 with 1 Axes>"
      ]
     },
     "metadata": {
      "needs_background": "light"
     },
     "output_type": "display_data"
    }
   ],
   "source": [
    "ruta = 'drive/My Drive/Fotos/'\n",
    "ext_unpaking = '.jpg'\n",
    "ext_paking = '.tar.bz2'\n",
    "\n",
    "sizes_unpacking, ratios = razonDeCompresion(ruta, ext_unpaking, ext_paking)\n",
    "dibujarRatioVsSizeUnpacking(sizes_unpacking, ratios)"
   ]
  },
  {
   "cell_type": "markdown",
   "metadata": {},
   "source": [
    "El resultado esperado es la creación de los archivos comprimidos en la misma carpeta donde están las imágenes y en el cuaderno se espera que se genere una gráfica de ratios vs SizeUnpacking."
   ]
  },
  {
   "cell_type": "markdown",
   "metadata": {},
   "source": [
    "## 2. Caída libre (15 puntos)\n",
    "​\n",
    "a) Usando como ejemplo la forma como está escrita y documentada la función razonDeCompresion del punto anterior escribe una función llamada \n",
    "​\n",
    "`evaluarTiroParabolico(t, y0, v0, a)`\n",
    "​\n",
    "que permita evaluar la expresión para la posición en movimiento uniformemente acelerado\n",
    "$$ y = y_0 + v_0t + \\frac{1}{2}at^2$$\n",
    "y que retorne el valor de $y$ (borre `None` y escriba su código)\n",
    "​"
   ]
  },
  {
   "cell_type": "code",
   "execution_count": 12,
   "metadata": {},
   "outputs": [],
   "source": [
    "def evaluarTiroParabolico(t, y0, v0, a):\n",
    "## escriba una documentación para la función aquí\n",
    "    \"\"\"\n",
    "\n",
    "\n",
    "    \"\"\"\n",
    "## fin de documentación\n",
    "  \n",
    "### START CODE HERE ### (approx length 1 line)\n",
    "    \n",
    "    y = None\n",
    "\n",
    "### END CODE HERE ###\n",
    "    \n",
    "    return y"
   ]
  },
  {
   "cell_type": "markdown",
   "metadata": {},
   "source": [
    "b) Escribe una función llamada \n",
    "`raicesTiroParabolico(y0, v0, a)`\n",
    "que encuentre los tiempos para los que $y$ vale $0$ calculando las raíces de $$ 0 = y_0 + v_0t + \\frac{1}{2}at^2$$\n",
    "con las expresiones\n",
    "$$t_1 = \\frac{-v_0+\\sqrt{v_0^2-4(\\frac{1}{2}a)y_0}}{2(\\frac{1}{2}a)}$$\n",
    " y \n",
    " $$t_2 = \\frac{-v_0-\\sqrt{v_0^2-4(\\frac{1}{2}a)y_0}}{2(\\frac{1}{2}a)} $$\n",
    "\n",
    " (simplifica las fracciones en la implementación) y que retorne el valor el valor de $t_1$ y $t_2$  (borre donde diga None y escriba su código)\n"
   ]
  },
  {
   "cell_type": "code",
   "execution_count": 14,
   "metadata": {},
   "outputs": [],
   "source": [
    "def raicesTiroParabolico(y0, v0, a):\n",
    "## escriba una documentación para la función aquí\n",
    "    \"\"\"\n",
    "\n",
    "\n",
    "    \"\"\"\n",
    "## fin de documentación\n",
    "\n",
    "### START CODE HERE ### (approx length 3 lines)\n",
    "    \n",
    "    discriminante = None\n",
    "    t1 = None\n",
    "    t2 = None\n",
    "\n",
    "### END CODE HERE ###\n",
    "    \n",
    "    return t1, t2\n"
   ]
  },
  {
   "cell_type": "markdown",
   "metadata": {},
   "source": [
    "c) Escribe una función llamada dibujarTiroParabolico(t_a, t_b, y0, v0, a) que dibuje la gráfica de tiro parabólico creando un array con los tiempos usando la función linspace de numpy"
   ]
  },
  {
   "cell_type": "code",
   "execution_count": 16,
   "metadata": {},
   "outputs": [],
   "source": [
    "import numpy as np\n",
    "\n",
    "def dibujarTiroParabolico(t_a, t_b, y0, v0, a):\n",
    "## escriba una documentación para la función aquí\n",
    "    \"\"\"\n",
    "\n",
    "\n",
    "    \"\"\"\n",
    "## fin de documentación\n",
    "\n",
    "### START CODE HERE ### (approx length 6 lines)\n",
    "    \n",
    "    # array equiespaciado de tiempos desde t_a hasta t_b (linspace)\n",
    "    t = None\n",
    "    \n",
    "    # evaluar tiro parabólico (usar la función evaluarTiroParabolico)\n",
    "    y = None\n",
    "    \n",
    "    # dibujar tiro parabólico con puntos azules ('bo')\n",
    "    None\n",
    "    \n",
    "    # agregar nombres a los ejes con unidades incluidas\n",
    "    None\n",
    "    None\n",
    "    \n",
    "    # mostrar gráfica\n",
    "    None\n",
    "\n",
    "### END CODE HERE ###\n",
    "    plt.show()"
   ]
  },
  {
   "cell_type": "markdown",
   "metadata": {},
   "source": [
    "Corre el siguiente código para calcular los tiempos $t_1$ y $t_2$ que hacen $y=0m$ con las condiciones iniciales $y_0=10m$, $v_0=60m/s$ y $a=-9.8m/s^2$ "
   ]
  },
  {
   "cell_type": "code",
   "execution_count": 17,
   "metadata": {},
   "outputs": [
    {
     "name": "stdout",
     "output_type": "stream",
     "text": [
      "tiempo 1:  None\n",
      "tiempo 2:  None\n"
     ]
    }
   ],
   "source": [
    "y0 = 10  #[m]\n",
    "v0 = 60  #[m/s]\n",
    "a = -9.8 #[m/s^2]\n",
    " \n",
    "t1, t2 = raicesTiroParabolico(y0, v0, a)\n",
    "print(\"tiempo 1: \", t1)\n",
    "print(\"tiempo 2: \", t2)"
   ]
  },
  {
   "cell_type": "markdown",
   "metadata": {},
   "source": [
    "Dibuja el tiro parabólico ejecutando la siguiente celda"
   ]
  },
  {
   "cell_type": "code",
   "execution_count": 18,
   "metadata": {},
   "outputs": [
    {
     "ename": "TypeError",
     "evalue": "'<' not supported between instances of 'NoneType' and 'NoneType'",
     "output_type": "error",
     "traceback": [
      "\u001b[0;31m---------------------------------------------------------------------------\u001b[0m",
      "\u001b[0;31mTypeError\u001b[0m                                 Traceback (most recent call last)",
      "\u001b[0;32m<ipython-input-18-c6a9bedf0f62>\u001b[0m in \u001b[0;36m<module>\u001b[0;34m\u001b[0m\n\u001b[1;32m      1\u001b[0m \u001b[0mtiempos\u001b[0m \u001b[0;34m=\u001b[0m \u001b[0;34m[\u001b[0m\u001b[0mt1\u001b[0m\u001b[0;34m,\u001b[0m \u001b[0mt2\u001b[0m\u001b[0;34m]\u001b[0m\u001b[0;34m\u001b[0m\u001b[0;34m\u001b[0m\u001b[0m\n\u001b[1;32m      2\u001b[0m \u001b[0;31m# ordenar tiempos t1 y t2 (en realidad no hace falta ordenarlos)\u001b[0m\u001b[0;34m\u001b[0m\u001b[0;34m\u001b[0m\u001b[0;34m\u001b[0m\u001b[0m\n\u001b[0;32m----> 3\u001b[0;31m \u001b[0mtiempos\u001b[0m\u001b[0;34m.\u001b[0m\u001b[0msort\u001b[0m\u001b[0;34m(\u001b[0m\u001b[0;34m)\u001b[0m\u001b[0;34m\u001b[0m\u001b[0;34m\u001b[0m\u001b[0m\n\u001b[0m\u001b[1;32m      4\u001b[0m \u001b[0mdibujarTiroParabolico\u001b[0m\u001b[0;34m(\u001b[0m\u001b[0mtiempos\u001b[0m\u001b[0;34m[\u001b[0m\u001b[0;36m0\u001b[0m\u001b[0;34m]\u001b[0m\u001b[0;34m,\u001b[0m \u001b[0mtiempos\u001b[0m\u001b[0;34m[\u001b[0m\u001b[0;36m1\u001b[0m\u001b[0;34m]\u001b[0m\u001b[0;34m,\u001b[0m \u001b[0my0\u001b[0m\u001b[0;34m,\u001b[0m \u001b[0mv0\u001b[0m\u001b[0;34m,\u001b[0m \u001b[0ma\u001b[0m\u001b[0;34m)\u001b[0m\u001b[0;34m\u001b[0m\u001b[0;34m\u001b[0m\u001b[0m\n",
      "\u001b[0;31mTypeError\u001b[0m: '<' not supported between instances of 'NoneType' and 'NoneType'"
     ]
    }
   ],
   "source": [
    "tiempos = [t1, t2]\n",
    "\n",
    "# ordenar tiempos t1 y t2 (en realidad no hace falta ordenarlos)\n",
    "tiempos.sort()\n",
    "dibujarTiroParabolico(tiempos[0], tiempos[1], y0, v0, a)"
   ]
  },
  {
   "cell_type": "markdown",
   "metadata": {},
   "source": [
    "Debes obtener una parábola cóncava y evaluada de forma simétrica respecto a un eje vertical."
   ]
  },
  {
   "cell_type": "code",
   "execution_count": null,
   "metadata": {},
   "outputs": [],
   "source": []
  }
 ],
 "metadata": {
  "kernelspec": {
   "display_name": "Python 3",
   "language": "python",
   "name": "python3"
  },
  "language_info": {
   "codemirror_mode": {
    "name": "ipython",
    "version": 3
   },
   "file_extension": ".py",
   "mimetype": "text/x-python",
   "name": "python",
   "nbconvert_exporter": "python",
   "pygments_lexer": "ipython3",
   "version": "3.7.3"
  }
 },
 "nbformat": 4,
 "nbformat_minor": 2
}

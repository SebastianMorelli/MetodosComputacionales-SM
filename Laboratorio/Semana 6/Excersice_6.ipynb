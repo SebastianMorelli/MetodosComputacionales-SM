{
 "cells": [
  {
   "cell_type": "code",
   "execution_count": 2,
   "metadata": {},
   "outputs": [
    {
     "name": "stdout",
     "output_type": "stream",
     "text": [
      "3.109\n"
     ]
    }
   ],
   "source": [
    "import numpy as np\n",
    "import matplotlib.pylab as plt\n",
    "\n",
    "def direct_pi(N):\n",
    "    n_hits = 0\n",
    "    for i in range(N):\n",
    "        x, y = random.uniform(-1.0, 1.0), random.uniform(-1.0, 1.0)\n",
    "        if(x ** 2 + y ** 2 < 1.0):\n",
    "            n_hits += 1\n",
    "    \n",
    "    return n_hits\n",
    "\n",
    "n_runs = 500\n",
    "n_trials = 4000\n",
    "\n",
    "rms = np.zeros[n_runs]\n",
    "\n",
    "for i in range(n_runs - 1):\n",
    "     rms[i] = 1/n_runs * np.sum(np.abs((4.0 * direct_pi(n_trials) / float(n_trials)) - np.pi))\n",
    "\n"
   ]
  },
  {
   "cell_type": "code",
   "execution_count": null,
   "metadata": {},
   "outputs": [],
   "source": []
  }
 ],
 "metadata": {
  "kernelspec": {
   "display_name": "Python 3",
   "language": "python",
   "name": "python3"
  },
  "language_info": {
   "codemirror_mode": {
    "name": "ipython",
    "version": 3
   },
   "file_extension": ".py",
   "mimetype": "text/x-python",
   "name": "python",
   "nbconvert_exporter": "python",
   "pygments_lexer": "ipython3",
   "version": "3.7.3"
  }
 },
 "nbformat": 4,
 "nbformat_minor": 2
}

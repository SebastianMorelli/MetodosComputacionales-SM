{
 "cells": [
  {
   "cell_type": "markdown",
   "metadata": {},
   "source": [
    "# Exercise 6 - Markov chains and Detailed balance\n",
    "\n",
    "## Exersice 1 - RMS deviation"
   ]
  },
  {
   "cell_type": "code",
   "execution_count": 1,
   "metadata": {},
   "outputs": [
    {
     "data": {
      "text/plain": [
       "<Figure size 800x500 with 1 Axes>"
      ]
     },
     "metadata": {},
     "output_type": "display_data"
    }
   ],
   "source": [
    "import numpy as np\n",
    "import matplotlib.pylab as plt\n",
    "\n",
    "def direct_pi(N):\n",
    "    n_hits = 0\n",
    "    for i in range(N):\n",
    "        x, y = np.random.uniform(-1.0, 1.0), np.random.uniform(-1.0, 1.0)\n",
    "        if(x ** 2 + y ** 2 < 1.0):\n",
    "            n_hits += 1\n",
    "    \n",
    "    return n_hits\n",
    "\n",
    "n_runs = 500\n",
    "n_trials = np.logspace(4, 12, num = 9)*2\n",
    "rms = np.zeros(len(n_trials))\n",
    "Lista_pi = np.zeros(n_runs)\n",
    "\n",
    "#Intenté usar n_trials[i] en vez de 2**i pero se demoraba demasiado en correr.\n",
    "\n",
    "for i in range(len(n_trials)):\n",
    "    for j in range(n_runs):\n",
    "         Lista_pi[j] = np.abs((4.0 * direct_pi(2**i) / float(2**i)) - np.pi)*(1/2**i)\n",
    "    \n",
    "    rms[i] = np.sum(Lista_pi)\n",
    "\n",
    "fig0 = plt.figure(figsize=(8,5))\n",
    "ax0 = fig0.add_subplot(111)\n",
    "ax0.plot(np.log(n_trials), np.log(rms), 'o', color = 'darkred')\n",
    "ax0.set_xlabel('$n$_$trials$', size = 15)\n",
    "ax0.set_ylabel('$RMS$', size = 15)\n",
    "ax0.set_title('RMS Deviation by Using Direct Sampling of $pi$', size = 18)\n",
    "\n",
    "plt.show()"
   ]
  },
  {
   "cell_type": "markdown",
   "metadata": {},
   "source": [
    "We can say that if in logaritmic scale it shows a semi-straigh line, it should behave like an exponencial decay in normal scale, so it should converge in a number between 1 and 0."
   ]
  },
  {
   "cell_type": "markdown",
   "metadata": {},
   "source": [
    "## Exercise 2 - Other way to compute $\\pi$ Markov chain\n",
    "\n",
    "### 1."
   ]
  },
  {
   "cell_type": "code",
   "execution_count": 2,
   "metadata": {},
   "outputs": [],
   "source": [
    "CuadradoLado_Max = 10.0\n",
    "CuadradoLado_Min = -10.0\n",
    "\n",
    "def CaminataRandomReturn(n_trials, delta):\n",
    "    \n",
    "    PositionX_ini = np.random.random()*10 -5\n",
    "    PositionY_ini = np.random.random()*10 -5\n",
    "    \n",
    "    InicialX = PositionX_ini\n",
    "    InicialY = PositionY_ini\n",
    "    \n",
    "    PositionX_old = np.copy(PositionX_ini)\n",
    "    PositionY_old = np.copy(PositionY_ini)\n",
    "    \n",
    "    PositionsX = []\n",
    "    PositionsY = []\n",
    "    \n",
    "    for i in range (n_trials):\n",
    "        DirectionX = np.random.binomial(1, 0.5, 1)\n",
    "        DirectionY = np.random.binomial(1, 0.5, 1)\n",
    "        \n",
    "        if(DirectionX == 0 and DirectionY == 0):\n",
    "            PositionX_new = PositionX_old + delta\n",
    "            PositionY_new = PositionY_old + delta\n",
    "            \n",
    "        elif(DirectionX == 1 and DirectionY == 1):\n",
    "            PositionX_new = PositionX_old - delta\n",
    "            PositionY_new = PositionY_old - delta\n",
    "        \n",
    "        elif(DirectionX == 0 and DirectionY == 1):\n",
    "            PositionX_new = PositionX_old + delta\n",
    "            PositionY_new = PositionY_old - delta\n",
    "\n",
    "        elif(DirectionX == 1 and DirectionY == 0):\n",
    "            PositionX_new = PositionX_old - delta\n",
    "            PositionY_new = PositionY_old + delta\n",
    "        \n",
    "        if(PositionX_new > CuadradoLado_Max or PositionX_new < CuadradoLado_Min or PositionY_new > CuadradoLado_Max\n",
    "          or PositionY_new < CuadradoLado_Min):\n",
    "            \n",
    "            PositionX_new = InicialX\n",
    "            PositionY_new = InicialY\n",
    "        \n",
    "        PositionX_old = PositionX_new\n",
    "        PositionY_old = PositionY_new\n",
    "            \n",
    "        PositionsX.append(PositionX_old)\n",
    "        PositionsY.append(PositionY_old)\n",
    "    \n",
    "    return (PositionsX, PositionsY)"
   ]
  },
  {
   "cell_type": "markdown",
   "metadata": {},
   "source": [
    "### 2."
   ]
  },
  {
   "cell_type": "code",
   "execution_count": 3,
   "metadata": {},
   "outputs": [],
   "source": [
    "def CaminataRandomStay(n_trials, delta):\n",
    "    \n",
    "    PositionX_ini = np.random.random()*10 -5\n",
    "    PositionY_ini = np.random.random()*10 -5\n",
    "    \n",
    "    PositionX_old = np.copy(PositionX_ini)\n",
    "    PositionY_old = np.copy(PositionY_ini)\n",
    "    \n",
    "    PositionsX = []\n",
    "    PositionsY = []\n",
    "    \n",
    "    for i in range (n_trials):\n",
    "        DirectionX = np.random.binomial(1, 0.5, 1)\n",
    "        DirectionY = np.random.binomial(1, 0.5, 1)\n",
    "        \n",
    "        if(DirectionX == 0 and DirectionY == 0):\n",
    "            PositionX_new = PositionX_old + delta\n",
    "            PositionY_new = PositionY_old + delta\n",
    "            \n",
    "            PositionX_old = PositionX_new\n",
    "            PositionY_old = PositionY_new\n",
    "            \n",
    "        elif(DirectionX == 1 and DirectionY == 1):\n",
    "            PositionX_new = PositionX_old - delta\n",
    "            PositionY_new = PositionY_old - delta\n",
    "        \n",
    "        elif(DirectionX == 0 and DirectionY == 1):\n",
    "            PositionX_new = PositionX_old + delta\n",
    "            PositionY_new = PositionY_old - delta\n",
    "\n",
    "        elif(DirectionX == 1 and DirectionY == 0):\n",
    "            PositionX_new = PositionX_old - delta\n",
    "            PositionY_new = PositionY_old + delta\n",
    "        \n",
    "        if(PositionX_new > CuadradoLado_Max or PositionX_new < CuadradoLado_Min or PositionY_new > CuadradoLado_Max\n",
    "          or PositionY_new < CuadradoLado_Min):\n",
    "            \n",
    "            PositionX_new = PositionsX[i-1]\n",
    "            PositionY_new = PositionsY[i-1]\n",
    "            \n",
    "        PositionX_old = PositionX_new\n",
    "        PositionY_old = PositionY_new\n",
    "            \n",
    "        PositionsX.append(PositionX_old)\n",
    "        PositionsY.append(PositionY_old)\n",
    "    \n",
    "    return (PositionsX, PositionsY)"
   ]
  },
  {
   "cell_type": "markdown",
   "metadata": {},
   "source": [
    "### 3."
   ]
  },
  {
   "cell_type": "code",
   "execution_count": 4,
   "metadata": {},
   "outputs": [
    {
     "data": {
      "image/png": "[encoded data removed]",
      "text/plain": [
       "<Figure size 864x360 with 2 Axes>"
      ]
     },
     "metadata": {
      "needs_background": "light"
     },
     "output_type": "display_data"
    }
   ],
   "source": [
    "fig1 = plt.figure(figsize = (12,5))\n",
    "\n",
    "delt1 = np.random.random()*4\n",
    "\n",
    "ax0 = fig1.add_subplot(121)\n",
    "ax0.plot(CaminataRandomReturn(2**6, delt1)[0], CaminataRandomReturn(2**6, delt1)[1], 'or--' )\n",
    "ax0.plot([-10, -10, 10, 10, -10], [-10, 10, 10, -10, -10], c = 'black')\n",
    "ax0.set_xlabel('$Position X$')\n",
    "ax0.set_ylabel('$Position Y$')\n",
    "ax0.set_title('Random Walking Going Back to Initial Position')\n",
    "\n",
    "ax1 = fig1.add_subplot(122)\n",
    "ax1.plot(CaminataRandomStay(2**6, delt1)[0], CaminataRandomStay(2**6, delt1)[1], 'ob--' )\n",
    "ax1.plot([-10, -10, 10, 10, -10], [-10, 10, 10, -10, -10], c = 'black')\n",
    "ax1.set_xlabel('$Position X$')\n",
    "ax1.set_ylabel('$Position Y$')\n",
    "ax1.set_title('Random Walking Staying in Previous Position')\n",
    "\n",
    "plt.show()"
   ]
  },
  {
   "cell_type": "markdown",
   "metadata": {},
   "source": [
    "The main difference between the methods is that in a stadistic way like a average position or trying to find $\\pi$ with th"
   ]
  },
  {
   "cell_type": "markdown",
   "metadata": {},
   "source": [
    "### 4."
   ]
  },
  {
   "cell_type": "code",
   "execution_count": null,
   "metadata": {},
   "outputs": [],
   "source": [
    "def piRandomWalking(N, delt0):\n",
    "    n_hits = 0\n",
    "    PosX, PosY = CaminataRandomReturn(N, delt0)[0], CaminataRandomReturn(N, delt0)[1]\n",
    "    x, y = PosX, PosY \n",
    "    for i in range(N):\n",
    "        if(x[i] ** 2 + y[i] ** 2 < 400):\n",
    "            n_hits += 1\n",
    "    \n",
    "    return n_hits\n",
    "\n",
    "difDeltas = np.array([0.062, 0.125, 0.25, 0.5, 1.0, 2.0, 4.0])\n",
    "\n",
    "def RMS(deltas):\n",
    "    for i in range(len(n_trials)):\n",
    "        for j in range(n_runs):\n",
    "             Lista_pi[j] = np.abs((4.0 * piRandomWalking(2**i, deltas) / float(2**i)) - np.pi)*(1/2**i)\n",
    "    \n",
    "        rms[i] = np.sum(Lista_pi)\n",
    "    return rms\n",
    "\n",
    "RMS0 = RMS(difDeltas[0])\n",
    "RMS1 = RMS(difDeltas[1])\n",
    "RMS2 = RMS(difDeltas[2])\n",
    "RMS3 = RMS(difDeltas[3])\n",
    "RMS4 = RMS(difDeltas[4])\n",
    "RMS5 = RMS(difDeltas[5])\n",
    "RMS6 = RMS(difDeltas[6])\n",
    "\n",
    "\n",
    "fig2 = plt.figure(figsize = (12,5))\n",
    "ax0 = fig2.add_subplot(111)\n",
    "ax0.plot(RMS0, n_trials)\n",
    "ax0.plot(RMS1, n_trials)\n",
    "ax0.plot(RMS2, n_trials)\n",
    "ax0.plot(RMS3, n_trials)\n",
    "ax0.plot(RMS4, n_trials)\n",
    "ax0.plot(RMS5, n_trials)\n",
    "ax0.plot(RMS6, n_trials)"
   ]
  },
  {
   "cell_type": "code",
   "execution_count": null,
   "metadata": {},
   "outputs": [],
   "source": []
  }
 ],
 "metadata": {
  "kernelspec": {
   "display_name": "Python 3",
   "language": "python",
   "name": "python3"
  },
  "language_info": {
   "codemirror_mode": {
    "name": "ipython",
    "version": 3
   },
   "file_extension": ".py",
   "mimetype": "text/x-python",
   "name": "python",
   "nbconvert_exporter": "python",
   "pygments_lexer": "ipython3",
   "version": "3.7.3"
  }
 },
 "nbformat": 4,
 "nbformat_minor": 2
}
